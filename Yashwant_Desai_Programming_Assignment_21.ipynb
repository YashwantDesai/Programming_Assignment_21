{
 "cells": [
  {
   "cell_type": "markdown",
   "id": "0c27a818",
   "metadata": {},
   "source": [
    "# Yashwant Desai –  Programming_Assingment 21"
   ]
  },
  {
   "cell_type": "markdown",
   "id": "9f377b0f",
   "metadata": {},
   "source": [
    "# Question 1"
   ]
  },
  {
   "cell_type": "markdown",
   "id": "8ef0c502",
   "metadata": {},
   "source": [
    "Write a function that takes a list and a number as arguments. Add the number to the end of the list, then remove the first element of the list. The function should then return the updated list.\n",
    "Examples\n",
    "next_in_line([5, 6, 7, 8, 9], 1) ➞ [6, 7, 8, 9, 1]\n",
    "\n",
    "next_in_line([7, 6, 3, 23, 17], 10) ➞ [6, 3, 23, 17, 10]\n",
    "\n",
    "next_in_line([1, 10, 20, 42 ], 6) ➞ [10, 20, 42, 6]\n",
    "\n",
    "next_in_line([], 6) ➞ \"No list has been selected\"\n"
   ]
  },
  {
   "cell_type": "code",
   "execution_count": 10,
   "id": "57bb9f2b",
   "metadata": {},
   "outputs": [
    {
     "name": "stdout",
     "output_type": "stream",
     "text": [
      "next_in_line([5, 6, 7, 8, 9], 1) ➞ [6, 7, 8, 9, 1]\n",
      "next_in_line([7, 6, 3, 23, 17], 10) ➞ [6, 3, 23, 17, 10]\n",
      "next_in_line([1, 10, 20, 42 ], 6) ➞ [10, 20, 42, 6]\n",
      "next_in_line([], 6) ➞ No list has been selected\n"
     ]
    }
   ],
   "source": [
    "def next_in_line(num, number):\n",
    "    if not num:\n",
    "        return \"No list has been selected\"\n",
    "    num.pop(0)\n",
    "    num.append(number)\n",
    "    return num\n",
    "print(f\"next_in_line([5, 6, 7, 8, 9], 1) ➞ {next_in_line([5, 6, 7, 8, 9], 1)}\")\n",
    "print(f\"next_in_line([7, 6, 3, 23, 17], 10) ➞ {next_in_line([7, 6, 3, 23, 17], 10)}\")\n",
    "print(f\"next_in_line([1, 10, 20, 42 ], 6) ➞ {next_in_line([1, 10, 20, 42 ], 6)}\")\n",
    "print(f\"next_in_line([], 6) ➞ {next_in_line([], 6)}\")"
   ]
  },
  {
   "cell_type": "markdown",
   "id": "32383f94",
   "metadata": {},
   "source": [
    "# Question2"
   ]
  },
  {
   "cell_type": "markdown",
   "id": "12fcb19b",
   "metadata": {},
   "source": [
    "Create the function that takes a list of dictionaries and returns the sum of people's budgets.\n",
    "Examples\n",
    "get_budgets([\n",
    "  { \"name\": \"John\", \"age\": 21, \"budget\": 23000 },\n",
    "  { \"name\": \"Steve\",  \"age\": 32, \"budget\": 40000 },\n",
    "  { \"name\": \"Martin\",  \"age\": 16, \"budget\": 2700 }\n",
    "]) ➞ 65700\n",
    "\n",
    "get_budgets([\n",
    "  { \"name\": \"John\",  \"age\": 21, \"budget\": 29000 },\n",
    "  { \"name\": \"Steve\",  \"age\": 32, \"budget\": 32000 },\n",
    "  { \"name\": \"Martin\",  \"age\": 16, \"budget\": 1600 }\n",
    "]) ➞ 62600"
   ]
  },
  {
   "cell_type": "code",
   "execution_count": 11,
   "id": "557202cc",
   "metadata": {},
   "outputs": [
    {
     "name": "stdout",
     "output_type": "stream",
     "text": [
      "65700\n",
      "62600\n"
     ]
    }
   ],
   "source": [
    "def get_budgets(people):\n",
    "    total_budget = 0\n",
    "    for person in people:\n",
    "        total_budget += person[\"budget\"]\n",
    "    return total_budget\n",
    "print(get_budgets([\n",
    "  { \"name\": \"John\", \"age\": 21, \"budget\": 23000 },\n",
    "  { \"name\": \"Steve\",  \"age\": 32, \"budget\": 40000 },\n",
    "  { \"name\": \"Martin\",  \"age\": 16, \"budget\": 2700 }\n",
    "]))\n",
    "\n",
    "print(get_budgets([\n",
    "  { \"name\": \"John\",  \"age\": 21, \"budget\": 29000 },\n",
    "  { \"name\": \"Steve\",  \"age\": 32, \"budget\": 32000 },\n",
    "  { \"name\": \"Martin\",  \"age\": 16, \"budget\": 1600 }\n",
    "]))\n"
   ]
  },
  {
   "cell_type": "markdown",
   "id": "19403075",
   "metadata": {},
   "source": [
    "# Question3"
   ]
  },
  {
   "cell_type": "markdown",
   "id": "b80df756",
   "metadata": {},
   "source": [
    "Create a function that takes a string and returns a string with its letters in alphabetical order.\n",
    "Examples\n",
    "alphabet_soup(\"hello\") ➞ \"ehllo\"\n",
    "\n",
    "alphabet_soup(\"edabit\") ➞ \"abdeit\"\n",
    "\n",
    "alphabet_soup(\"hacker\") ➞ \"acehkr\"\n",
    "\n",
    "alphabet_soup(\"geek\") ➞ \"eegk\"\n",
    "\n",
    "alphabet_soup(\"javascript\") ➞ \"aacijprstv\""
   ]
  },
  {
   "cell_type": "code",
   "execution_count": 12,
   "id": "0f68e3be",
   "metadata": {},
   "outputs": [
    {
     "name": "stdout",
     "output_type": "stream",
     "text": [
      "ehllo\n",
      "abdeit\n",
      "acehkr\n",
      "eegk\n",
      "aacijprstv\n"
     ]
    }
   ],
   "source": [
    "def alphabet_soup(s):\n",
    "    sorted_str = ''.join(sorted(s))\n",
    "    return sorted_str\n",
    "print(alphabet_soup(\"hello\"))\n",
    "print(alphabet_soup(\"edabit\"))\n",
    "print(alphabet_soup(\"hacker\"))\n",
    "print(alphabet_soup(\"geek\"))\n",
    "print(alphabet_soup(\"javascript\"))"
   ]
  },
  {
   "cell_type": "markdown",
   "id": "88fe344b",
   "metadata": {},
   "source": [
    "# Question4"
   ]
  },
  {
   "cell_type": "markdown",
   "id": "0f454909",
   "metadata": {},
   "source": [
    "Suppose that you invest $10,000 for 10 years at an interest rate of 6% compounded monthly. What will be the value of your investment at the end of the 10 year period?\n",
    "Create a function that accepts the principal p, the term in years t, the interest rate r, and the number of compounding periods per year n. The function returns the value at the end of term rounded to the nearest cent.\n",
    "For the example above:\n",
    "compound_interest(10000, 10, 0.06, 12) ➞ 18193.97\n",
    "Note that the interest rate is given as a decimal and n=12 because with monthly compounding there are 12 periods per year. Compounding can also be done annually, quarterly, weekly, or daily.\n",
    "Examples\n",
    "compound_interest(100, 1, 0.05, 1) ➞ 105.0\n",
    "\n",
    "compound_interest(3500, 15, 0.1, 4) ➞ 15399.26\n",
    "\n",
    "compound_interest(100000, 20, 0.15, 365) ➞ 2007316.26"
   ]
  },
  {
   "cell_type": "code",
   "execution_count": 17,
   "id": "0a35ebe6",
   "metadata": {},
   "outputs": [
    {
     "name": "stdout",
     "output_type": "stream",
     "text": [
      "compound_interest(10000, 10, 0.06, 12) ➞ 18193.97\n",
      "compound_interest(100, 1, 0.05, 1) ➞ 105.0\n",
      "compound_interest(3500, 15, 0.1, 4) ➞ 15399.26\n",
      "compound_interest(100000, 20, 0.15, 365) ➞ 2007316.26\n"
     ]
    }
   ],
   "source": [
    "def compound_interest(p, t, r, n):\n",
    "    A = p * (1 + r/n)**(n*t)\n",
    "    return round(A, 2)\n",
    "print(f\"compound_interest(10000, 10, 0.06, 12) ➞ {compound_interest(10000, 10, 0.06, 12)}\")\n",
    "print(f\"compound_interest(100, 1, 0.05, 1) ➞ {compound_interest(100, 1, 0.05, 1)}\")\n",
    "print(f\"compound_interest(3500, 15, 0.1, 4) ➞ {compound_interest(3500, 15, 0.1, 4)}\")\n",
    "print(f\"compound_interest(100000, 20, 0.15, 365) ➞ {compound_interest(100000, 20, 0.15, 365)}\")"
   ]
  },
  {
   "cell_type": "markdown",
   "id": "3030b3eb",
   "metadata": {},
   "source": [
    "# Question5"
   ]
  },
  {
   "cell_type": "markdown",
   "id": "8903d5e9",
   "metadata": {},
   "source": [
    "Write a function that takes a list of elements and returns only the integers.\n",
    "Examples\n",
    "return_only_integer([9, 2, \"space\", \"car\", \"lion\", 16]) ➞ [9, 2, 16]\n",
    "\n",
    "return_only_integer([\"hello\", 81, \"basketball\", 123, \"fox\"]) ➞ [81, 123]\n",
    "\n",
    "return_only_integer([10, \"121\", 56, 20, \"car\", 3, \"lion\"]) ➞ [10, 56, 20, 3]\n",
    "\n",
    "return_only_integer([\"String\",  True,  3.3,  1]) ➞ [1]"
   ]
  },
  {
   "cell_type": "code",
   "execution_count": 22,
   "id": "9c6abc68",
   "metadata": {},
   "outputs": [
    {
     "name": "stdout",
     "output_type": "stream",
     "text": [
      "[9, 2, 16]\n",
      "[81, 123]\n",
      "[10, 56, 20, 3]\n",
      "[1]\n"
     ]
    }
   ],
   "source": [
    "def return_only_integer(lst):\n",
    "    return [x for x in lst if isinstance(x, int) and not isinstance(x, bool)]\n",
    "print(return_only_integer([9, 2, \"space\", \"car\", \"lion\", 16]))\n",
    "print(return_only_integer([\"hello\", 81, \"basketball\", 123, \"fox\"]))\n",
    "print(return_only_integer([10, \"121\", 56, 20, \"car\", 3, \"lion\"]))\n",
    "print(return_only_integer([\"String\", True, 3.3, 1]))"
   ]
  },
  {
   "cell_type": "markdown",
   "id": "a79c0885",
   "metadata": {},
   "source": [
    "# Done Regards,Yashwant"
   ]
  }
 ],
 "metadata": {
  "kernelspec": {
   "display_name": "Python 3 (ipykernel)",
   "language": "python",
   "name": "python3"
  },
  "language_info": {
   "codemirror_mode": {
    "name": "ipython",
    "version": 3
   },
   "file_extension": ".py",
   "mimetype": "text/x-python",
   "name": "python",
   "nbconvert_exporter": "python",
   "pygments_lexer": "ipython3",
   "version": "3.9.13"
  }
 },
 "nbformat": 4,
 "nbformat_minor": 5
}
